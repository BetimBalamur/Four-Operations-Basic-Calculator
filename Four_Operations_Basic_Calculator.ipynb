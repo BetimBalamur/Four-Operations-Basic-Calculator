{
 "cells": [
  {
   "cell_type": "code",
   "execution_count": 1,
   "metadata": {},
   "outputs": [],
   "source": [
    "def add(a,b):\n",
    "    result = a+b\n",
    "    print(result)"
   ]
  },
  {
   "cell_type": "code",
   "execution_count": 2,
   "metadata": {},
   "outputs": [],
   "source": [
    "def sub(a,b):\n",
    "    result = a-b\n",
    "    print(result)"
   ]
  },
  {
   "cell_type": "code",
   "execution_count": 3,
   "metadata": {},
   "outputs": [],
   "source": [
    "def mul(a,b):\n",
    "    result = a*b\n",
    "    print(result)"
   ]
  },
  {
   "cell_type": "code",
   "execution_count": 4,
   "metadata": {},
   "outputs": [],
   "source": [
    "def div(a,b):\n",
    "    result = a/b\n",
    "    print(result)"
   ]
  },
  {
   "cell_type": "code",
   "execution_count": 6,
   "metadata": {},
   "outputs": [
    {
     "name": "stdout",
     "output_type": "stream",
     "text": [
      "Enter the first number please:6\n",
      "Enter the second number please:5\n",
      "Enter the operator please:/\n",
      "1.2\n"
     ]
    }
   ],
   "source": [
    "a = int(input(\"Enter the first number please:\"))\n",
    "b = int(input(\"Enter the second number please:\"))\n",
    "op = input(\"Enter the operator please:\")\n",
    "\n",
    "if op ==\"+\":\n",
    "    add(a,b)\n",
    "if op ==\"-\":\n",
    "    sub(a,b)\n",
    "if op ==\"*\":\n",
    "    mul(a,b)\n",
    "if op ==\"/\":\n",
    "    div(a,b)\n",
    "else:\n",
    "    print(\"Invalid Operator\")\n"
   ]
  },
  {
   "cell_type": "code",
   "execution_count": null,
   "metadata": {},
   "outputs": [],
   "source": []
  },
  {
   "cell_type": "code",
   "execution_count": null,
   "metadata": {},
   "outputs": [],
   "source": []
  }
 ],
 "metadata": {
  "kernelspec": {
   "display_name": "Python 3",
   "language": "python",
   "name": "python3"
  },
  "language_info": {
   "codemirror_mode": {
    "name": "ipython",
    "version": 3
   },
   "file_extension": ".py",
   "mimetype": "text/x-python",
   "name": "python",
   "nbconvert_exporter": "python",
   "pygments_lexer": "ipython3",
   "version": "3.8.3"
  }
 },
 "nbformat": 4,
 "nbformat_minor": 4
}
